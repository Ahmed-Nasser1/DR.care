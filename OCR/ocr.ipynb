{
 "cells": [
  {
   "cell_type": "code",
   "execution_count": 214,
   "metadata": {},
   "outputs": [],
   "source": [
    "import cv2 \n",
    " \n",
    "import numpy as np\n",
    "from matplotlib import pyplot as plt"
   ]
  },
  {
   "cell_type": "code",
   "execution_count": 215,
   "metadata": {},
   "outputs": [],
   "source": [
    "img = cv2.imread('ts8.jpg')"
   ]
  },
  {
   "cell_type": "markdown",
   "metadata": {},
   "source": []
  },
  {
   "cell_type": "code",
   "execution_count": 216,
   "metadata": {},
   "outputs": [],
   "source": [
    "def grayscale(image):\n",
    "    return cv2.cvtColor(image, cv2.COLOR_BGR2GRAY)"
   ]
  },
  {
   "cell_type": "code",
   "execution_count": 217,
   "metadata": {},
   "outputs": [],
   "source": [
    "gray_image = grayscale(img)\n"
   ]
  },
  {
   "cell_type": "markdown",
   "metadata": {},
   "source": [
    "convert image to black and white\n"
   ]
  },
  {
   "cell_type": "code",
   "execution_count": 218,
   "metadata": {},
   "outputs": [],
   "source": [
    "thresh, im_bw = cv2.threshold(gray_image, 150, 160, cv2.THRESH_BINARY)\n"
   ]
  },
  {
   "cell_type": "markdown",
   "metadata": {},
   "source": [
    "Dilation and Erosion\n"
   ]
  },
  {
   "cell_type": "code",
   "execution_count": 219,
   "metadata": {},
   "outputs": [],
   "source": [
    "def thick_font(image):\n",
    "    import numpy as np\n",
    "    image = cv2.bitwise_not(image)\n",
    "    kernel = np.ones((2,2),np.uint8)\n",
    "    image = cv2.dilate(image, kernel, iterations=1)\n",
    "    image = cv2.bitwise_not(image)\n",
    "    return (image)\n",
    "    "
   ]
  },
  {
   "cell_type": "code",
   "execution_count": 220,
   "metadata": {},
   "outputs": [],
   "source": [
    "dilated_image = thick_font(im_bw )\n"
   ]
  },
  {
   "cell_type": "code",
   "execution_count": 221,
   "metadata": {},
   "outputs": [],
   "source": [
    "import pytesseract\n",
    "from PIL import Image\n",
    "\n",
    "# path to your local tesseract\n",
    "\n",
    "pytesseract.pytesseract.tesseract_cmd = r'C:\\Users\\ahmed\\AppData\\Local\\Programs\\Tesseract-OCR\\tesseract'\n"
   ]
  },
  {
   "cell_type": "code",
   "execution_count": 222,
   "metadata": {},
   "outputs": [
    {
     "name": "stdout",
     "output_type": "stream",
     "text": [
      "Date: 28/05/2022\n",
      "Name: ali gin\n",
      "\n",
      "COMPLETE BLOOD COUNT\n",
      "\n",
      "Hemoglobin 11.2* 2%\n",
      "\n",
      "Red cell count 4.55 Millions/cmm\n",
      "Hematocrit (PCV) 36.7 %\n",
      "\n",
      "MCV 81 fl\n",
      "MCH 25* pg\n",
      "MCHC 31 ~~ gm% .\n",
      "Platelet count 270 Thousands/emm . s\n",
      "White cell count 9.3 Thousands/emm 2\n",
      "\n",
      "Differential white cell count\n",
      "\n",
      "Relative\n",
      "Result % Normal\n",
      "Neutrophils 40 37. - 75\n",
      "Bands 02 0 - 5\n",
      "Segmented 38*\n",
      "Lymphocytes 53* 20 - 45 49\n",
      "Monocytes 05 3. 06 - 68\n",
      "Eosinophils 02 0 - 6\n",
      "Basophils 00 0 - il\n",
      "\n",
      "Comment mild normocytic anemia\n",
      "Mo\n",
      "\n"
     ]
    }
   ],
   "source": [
    "\n",
    "\n",
    "custom_config = r'-c preserve_interword_spaces=5 --oem 3 --psm 4 -l eng'\n",
    "\n",
    "\n",
    "\n",
    "extracted_text = pytesseract.image_to_string(dilated_image ,config=custom_config)\n",
    "\n",
    "print(extracted_text)\n",
    "\n"
   ]
  },
  {
   "cell_type": "code",
   "execution_count": 223,
   "metadata": {},
   "outputs": [],
   "source": [
    "import re\n",
    "pattern=r'[A-z]+\\s?[A-z]*\\s?[A-z]*\\s?[0-9]+\\.?[0-9]*'\n"
   ]
  },
  {
   "cell_type": "code",
   "execution_count": null,
   "metadata": {},
   "outputs": [],
   "source": [
    "\n",
    "    "
   ]
  },
  {
   "cell_type": "code",
   "execution_count": 224,
   "metadata": {},
   "outputs": [],
   "source": [
    "import spacy \n",
    "from spacy.tokens import Span"
   ]
  },
  {
   "cell_type": "code",
   "execution_count": 225,
   "metadata": {},
   "outputs": [
    {
     "name": "stdout",
     "output_type": "stream",
     "text": [
      "COUNT\n",
      "\n",
      "Hemoglobin 11.2\n",
      "Red cell count 4.55\n",
      "MCV 81\n",
      "fl\n",
      "MCH 25\n",
      "pg\n",
      "MCHC 31\n",
      "Platelet count 270\n",
      "White cell count 9.3\n",
      "emm 2\n",
      "Normal\n",
      "Neutrophils 40\n",
      "Bands 02\n",
      "Segmented 38\n",
      "Lymphocytes 53\n",
      "Monocytes 05\n",
      "Eosinophils 02\n",
      "Basophils 00\n"
     ]
    }
   ],
   "source": [
    "nlp=spacy.blank('en')\n",
    "doc=nlp(extracted_text)\n",
    "value=[]\n",
    "for text in re.finditer(pattern,doc.text):\n",
    "    start,end=text.span()\n",
    "    span=doc.char_span(start,end)\n",
    "    if(len(str(span))>1 and str(span)!=\"None\"):\n",
    "        value.append(span.text.split(\"\\n\")[-1])\n",
    "    print (span)"
   ]
  },
  {
   "cell_type": "code",
   "execution_count": 226,
   "metadata": {},
   "outputs": [
    {
     "name": "stdout",
     "output_type": "stream",
     "text": [
      "['Hemoglobin 11.2', 'Red cell count 4.55', 'MCV 81', 'MCH 25', 'MCHC 31', 'Platelet count 270', 'White cell count 9.3', 'emm 2', 'Neutrophils 40', 'Bands 02', 'Segmented 38', 'Lymphocytes 53', 'Monocytes 05', 'Eosinophils 02', 'Basophils 00']\n"
     ]
    }
   ],
   "source": [
    "print(value)"
   ]
  },
  {
   "cell_type": "code",
   "execution_count": null,
   "metadata": {},
   "outputs": [],
   "source": []
  }
 ],
 "metadata": {
  "kernelspec": {
   "display_name": "Python 3.7.6 ('base')",
   "language": "python",
   "name": "python3"
  },
  "language_info": {
   "codemirror_mode": {
    "name": "ipython",
    "version": 3
   },
   "file_extension": ".py",
   "mimetype": "text/x-python",
   "name": "python",
   "nbconvert_exporter": "python",
   "pygments_lexer": "ipython3",
   "version": "3.7.6"
  },
  "orig_nbformat": 4,
  "vscode": {
   "interpreter": {
    "hash": "88033ea6e6aaf353f3d26ef69434bb9b1f089d6b00d896155ae24c39a5d92896"
   }
  }
 },
 "nbformat": 4,
 "nbformat_minor": 2
}
