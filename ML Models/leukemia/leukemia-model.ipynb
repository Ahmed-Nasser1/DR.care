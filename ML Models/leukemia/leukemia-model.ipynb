{
 "cells": [
  {
   "cell_type": "code",
   "execution_count": 1,
   "metadata": {
    "executionInfo": {
     "elapsed": 1308,
     "status": "ok",
     "timestamp": 1601956663475,
     "user": {
      "displayName": "Diwas Pandey",
      "photoUrl": "https://lh3.googleusercontent.com/a-/AOh14GgwC5mUNsGb-K6YG3mcYs7M02WQddfdyLswLUaufw=s64",
      "userId": "10220126325510116826"
     },
     "user_tz": -345
    },
    "id": "FKVcBcRlg5TP"
   },
   "outputs": [],
   "source": [
    "import pandas as pd \n",
    "import cv2                 \n",
    "import numpy as np         \n",
    "import os,sys                  \n",
    "from random import shuffle\n",
    "from tqdm import tqdm  \n",
    "import scipy\n",
    "import skimage\n",
    "from skimage.transform import resize\n",
    "from sklearn.model_selection import train_test_split\n",
    "from tensorflow import keras\n"
   ]
  },
  {
   "cell_type": "code",
   "execution_count": 2,
   "metadata": {
    "colab": {
     "base_uri": "https://localhost:8080/",
     "height": 34
    },
    "executionInfo": {
     "elapsed": 2824,
     "status": "ok",
     "timestamp": 1601956702634,
     "user": {
      "displayName": "Diwas Pandey",
      "photoUrl": "https://lh3.googleusercontent.com/a-/AOh14GgwC5mUNsGb-K6YG3mcYs7M02WQddfdyLswLUaufw=s64",
      "userId": "10220126325510116826"
     },
     "user_tz": -345
    },
    "id": "myyg2ot8g5Ta",
    "outputId": "84e323e6-68f6-4fd5-b9f0-5f426f6440ec"
   },
   "outputs": [
    {
     "name": "stdout",
     "output_type": "stream",
     "text": [
      "['Cancer', 'Normal']\n"
     ]
    }
   ],
   "source": [
    "print(os.listdir(\"train\"))"
   ]
  },
  {
   "cell_type": "code",
   "execution_count": 3,
   "metadata": {
    "executionInfo": {
     "elapsed": 1319,
     "status": "ok",
     "timestamp": 1601956704503,
     "user": {
      "displayName": "Diwas Pandey",
      "photoUrl": "https://lh3.googleusercontent.com/a-/AOh14GgwC5mUNsGb-K6YG3mcYs7M02WQddfdyLswLUaufw=s64",
      "userId": "10220126325510116826"
     },
     "user_tz": -345
    },
    "id": "2lVz6qVhg5Td"
   },
   "outputs": [],
   "source": [
    "\n",
    "TRAIN_DIR = \"train\"\n",
    "TEST_DIR =  \"test\""
   ]
  },
  {
   "cell_type": "code",
   "execution_count": 59,
   "metadata": {
    "executionInfo": {
     "elapsed": 911,
     "status": "ok",
     "timestamp": 1601956706232,
     "user": {
      "displayName": "Diwas Pandey",
      "photoUrl": "https://lh3.googleusercontent.com/a-/AOh14GgwC5mUNsGb-K6YG3mcYs7M02WQddfdyLswLUaufw=s64",
      "userId": "10220126325510116826"
     },
     "user_tz": -345
    },
    "id": "3A7UrnLZg5Ti"
   },
   "outputs": [],
   "source": [
    "#Preprocessing \n",
    "def get_label(Dir):\n",
    "    for nextdir in os.listdir(Dir):\n",
    "        if nextdir in ['NORMAL']:\n",
    "            label = 0\n",
    "        elif nextdir in ['CANCER']:\n",
    "            label = 1\n",
    "        else:\n",
    "            label = 2\n",
    "    return nextdir, label"
   ]
  },
  {
   "cell_type": "code",
   "execution_count": 5,
   "metadata": {
    "executionInfo": {
     "elapsed": 899,
     "status": "ok",
     "timestamp": 1601956708014,
     "user": {
      "displayName": "Diwas Pandey",
      "photoUrl": "https://lh3.googleusercontent.com/a-/AOh14GgwC5mUNsGb-K6YG3mcYs7M02WQddfdyLswLUaufw=s64",
      "userId": "10220126325510116826"
     },
     "user_tz": -345
    },
    "id": "mDu4jR8rg5Tl"
   },
   "outputs": [],
   "source": [
    "def preprocessing_data(Dir):\n",
    "    X = []\n",
    "    y = []\n",
    "    \n",
    "    for nextdir in os.listdir(Dir):\n",
    "        nextdir, label = get_label(Dir)\n",
    "        temp = Dir + nextdir\n",
    "        \n",
    "        for image_filename in tqdm(os.listdir(temp)):\n",
    "            path = os.path.join(temp + '/' , image_filename)\n",
    "            img = cv2.imread(path,cv2.IMREAD_GRAYSCALE)\n",
    "            if img is not None:\n",
    "                img = skimage.transform.resize(img, (150, 150, 3))\n",
    "                img = np.asarray(img)\n",
    "                X.append(img)\n",
    "                y.append(label)\n",
    "            \n",
    "    X = np.asarray(X)\n",
    "    y = np.asarray(y)\n",
    "    \n",
    "    return X,y"
   ]
  },
  {
   "cell_type": "code",
   "execution_count": 6,
   "metadata": {
    "executionInfo": {
     "elapsed": 1514,
     "status": "ok",
     "timestamp": 1601956711876,
     "user": {
      "displayName": "Diwas Pandey",
      "photoUrl": "https://lh3.googleusercontent.com/a-/AOh14GgwC5mUNsGb-K6YG3mcYs7M02WQddfdyLswLUaufw=s64",
      "userId": "10220126325510116826"
     },
     "user_tz": -345
    },
    "id": "np3Au1CNg5To"
   },
   "outputs": [],
   "source": [
    " #X_train, y_train = preprocessing_data(TRAIN_DIR)"
   ]
  },
  {
   "cell_type": "code",
   "execution_count": 7,
   "metadata": {
    "executionInfo": {
     "elapsed": 1066,
     "status": "ok",
     "timestamp": 1601956713642,
     "user": {
      "displayName": "Diwas Pandey",
      "photoUrl": "https://lh3.googleusercontent.com/a-/AOh14GgwC5mUNsGb-K6YG3mcYs7M02WQddfdyLswLUaufw=s64",
      "userId": "10220126325510116826"
     },
     "user_tz": -345
    },
    "id": "hVf2ZUDRg5Tq"
   },
   "outputs": [],
   "source": [
    "def get_data(Dir):\n",
    "    X = []\n",
    "    y = []\n",
    "    for nextDir in os.listdir(Dir):\n",
    "        if nextDir in ['NORMAL']:\n",
    "            label = 0\n",
    "        elif nextDir in ['CANCER']:\n",
    "            label = 1\n",
    "        else:\n",
    "            label = 2\n",
    "                \n",
    "            temp = Dir + '/' + nextDir\n",
    "                \n",
    "            for file in tqdm(os.listdir(temp)):\n",
    "                img = cv2.imread(temp + '/' + file)\n",
    "                if img is not None:\n",
    "                    img = skimage.transform.resize(img, (150, 150, 3))\n",
    "                    #img_file = scipy.misc.imresize(arr=img_file, size=(150, 150, 3))\n",
    "                    img = np.asarray(img)\n",
    "                    X.append(img)\n",
    "                    y.append(label)\n",
    "                    \n",
    "    X = np.asarray(X)\n",
    "    y = np.asarray(y)\n",
    "    return X,y"
   ]
  },
  {
   "cell_type": "code",
   "execution_count": 8,
   "metadata": {
    "colab": {
     "base_uri": "https://localhost:8080/",
     "height": 52
    },
    "executionInfo": {
     "elapsed": 2072043,
     "status": "ok",
     "timestamp": 1601958786620,
     "user": {
      "displayName": "Diwas Pandey",
      "photoUrl": "https://lh3.googleusercontent.com/a-/AOh14GgwC5mUNsGb-K6YG3mcYs7M02WQddfdyLswLUaufw=s64",
      "userId": "10220126325510116826"
     },
     "user_tz": -345
    },
    "id": "RnFFHH1wg5Tt",
    "outputId": "f266e398-c74f-4046-82fa-8e47fec047d9"
   },
   "outputs": [
    {
     "name": "stderr",
     "output_type": "stream",
     "text": [
      "100%|██████████████████████████████████████████████████████████████████████████████| 2478/2478 [01:08<00:00, 36.34it/s]\n",
      "100%|██████████████████████████████████████████████████████████████████████████████| 2483/2483 [02:08<00:00, 19.33it/s]\n"
     ]
    }
   ],
   "source": [
    "X_train, y_train = get_data(TRAIN_DIR)"
   ]
  },
  {
   "cell_type": "code",
   "execution_count": 9,
   "metadata": {
    "colab": {
     "base_uri": "https://localhost:8080/",
     "height": 52
    },
    "executionInfo": {
     "elapsed": 530798,
     "status": "ok",
     "timestamp": 1601959317456,
     "user": {
      "displayName": "Diwas Pandey",
      "photoUrl": "https://lh3.googleusercontent.com/a-/AOh14GgwC5mUNsGb-K6YG3mcYs7M02WQddfdyLswLUaufw=s64",
      "userId": "10220126325510116826"
     },
     "user_tz": -345
    },
    "id": "5ihfywFpg5Tv",
    "outputId": "8b26248f-ba23-4e29-d7bb-7dd3e2047020"
   },
   "outputs": [
    {
     "name": "stderr",
     "output_type": "stream",
     "text": [
      "100%|████████████████████████████████████████████████████████████████████████████████| 629/629 [00:18<00:00, 34.51it/s]\n",
      "100%|████████████████████████████████████████████████████████████████████████████████| 620/620 [00:16<00:00, 37.39it/s]\n"
     ]
    }
   ],
   "source": [
    "X_test , y_test = get_data(TEST_DIR)"
   ]
  },
  {
   "cell_type": "code",
   "execution_count": 10,
   "metadata": {
    "colab": {
     "base_uri": "https://localhost:8080/",
     "height": 52
    },
    "executionInfo": {
     "elapsed": 530789,
     "status": "ok",
     "timestamp": 1601959317467,
     "user": {
      "displayName": "Diwas Pandey",
      "photoUrl": "https://lh3.googleusercontent.com/a-/AOh14GgwC5mUNsGb-K6YG3mcYs7M02WQddfdyLswLUaufw=s64",
      "userId": "10220126325510116826"
     },
     "user_tz": -345
    },
    "id": "TXBYicsGg5T0",
    "outputId": "7bbc0837-8065-44c3-9ebf-745799a264ec"
   },
   "outputs": [
    {
     "name": "stdout",
     "output_type": "stream",
     "text": [
      "(4961, 150, 150, 3) \n",
      " (1249, 150, 150, 3)\n"
     ]
    }
   ],
   "source": [
    "print(X_train.shape,'\\n',X_test.shape)"
   ]
  },
  {
   "cell_type": "code",
   "execution_count": 11,
   "metadata": {
    "colab": {
     "base_uri": "https://localhost:8080/",
     "height": 52
    },
    "executionInfo": {
     "elapsed": 530778,
     "status": "ok",
     "timestamp": 1601959317471,
     "user": {
      "displayName": "Diwas Pandey",
      "photoUrl": "https://lh3.googleusercontent.com/a-/AOh14GgwC5mUNsGb-K6YG3mcYs7M02WQddfdyLswLUaufw=s64",
      "userId": "10220126325510116826"
     },
     "user_tz": -345
    },
    "id": "Poe5R4ZNg5T3",
    "outputId": "76c95b49-c7cc-404b-b591-3741eb1ac90c"
   },
   "outputs": [
    {
     "name": "stdout",
     "output_type": "stream",
     "text": [
      "(4961,) \n",
      " (1249,)\n"
     ]
    }
   ],
   "source": [
    "print(y_train.shape,'\\n',y_test.shape)"
   ]
  },
  {
   "cell_type": "code",
   "execution_count": 12,
   "metadata": {
    "executionInfo": {
     "elapsed": 532749,
     "status": "ok",
     "timestamp": 1601959319455,
     "user": {
      "displayName": "Diwas Pandey",
      "photoUrl": "https://lh3.googleusercontent.com/a-/AOh14GgwC5mUNsGb-K6YG3mcYs7M02WQddfdyLswLUaufw=s64",
      "userId": "10220126325510116826"
     },
     "user_tz": -345
    },
    "id": "sQiwFWdXg5T5"
   },
   "outputs": [
    {
     "name": "stderr",
     "output_type": "stream",
     "text": [
      "Using TensorFlow backend.\n"
     ]
    }
   ],
   "source": [
    "from keras.utils.np_utils import to_categorical\n",
    "\n",
    "y_train = to_categorical(y_train)\n",
    "y_test = to_categorical(y_test)\n",
    "\n"
   ]
  },
  {
   "cell_type": "code",
   "execution_count": 13,
   "metadata": {
    "colab": {
     "base_uri": "https://localhost:8080/",
     "height": 52
    },
    "executionInfo": {
     "elapsed": 532748,
     "status": "ok",
     "timestamp": 1601959319467,
     "user": {
      "displayName": "Diwas Pandey",
      "photoUrl": "https://lh3.googleusercontent.com/a-/AOh14GgwC5mUNsGb-K6YG3mcYs7M02WQddfdyLswLUaufw=s64",
      "userId": "10220126325510116826"
     },
     "user_tz": -345
    },
    "id": "k_J7axGfg5T7",
    "outputId": "7c2f3814-d782-4469-c55d-3e4130ce344d"
   },
   "outputs": [
    {
     "name": "stdout",
     "output_type": "stream",
     "text": [
      "(4961, 3) \n",
      " (1249, 3)\n"
     ]
    }
   ],
   "source": [
    "print(y_train.shape,'\\n',y_test.shape)"
   ]
  },
  {
   "cell_type": "code",
   "execution_count": 14,
   "metadata": {
    "executionInfo": {
     "elapsed": 1132,
     "status": "ok",
     "timestamp": 1601959483544,
     "user": {
      "displayName": "Diwas Pandey",
      "photoUrl": "https://lh3.googleusercontent.com/a-/AOh14GgwC5mUNsGb-K6YG3mcYs7M02WQddfdyLswLUaufw=s64",
      "userId": "10220126325510116826"
     },
     "user_tz": -345
    },
    "id": "pA4LZDVlg5UK"
   },
   "outputs": [],
   "source": [
    "from keras.callbacks import ReduceLROnPlateau , ModelCheckpoint\n",
    "lr_reduce = ReduceLROnPlateau(monitor='val_acc', factor=0.1, min_delta=0.0001, patience=1, verbose=1)"
   ]
  },
  {
   "cell_type": "code",
   "execution_count": 52,
   "metadata": {
    "executionInfo": {
     "elapsed": 1154,
     "status": "ok",
     "timestamp": 1601959489944,
     "user": {
      "displayName": "Diwas Pandey",
      "photoUrl": "https://lh3.googleusercontent.com/a-/AOh14GgwC5mUNsGb-K6YG3mcYs7M02WQddfdyLswLUaufw=s64",
      "userId": "10220126325510116826"
     },
     "user_tz": -345
    },
    "id": "s_eS6MfEg5UM"
   },
   "outputs": [],
   "source": [
    "filepath=\"weights.hdf5\"\n",
    "checkpoint = ModelCheckpoint(filepath, monitor='val_acc', verbose=1, save_best_only=True, mode='max')"
   ]
  },
  {
   "cell_type": "code",
   "execution_count": 53,
   "metadata": {
    "executionInfo": {
     "elapsed": 1285,
     "status": "ok",
     "timestamp": 1601959494073,
     "user": {
      "displayName": "Diwas Pandey",
      "photoUrl": "https://lh3.googleusercontent.com/a-/AOh14GgwC5mUNsGb-K6YG3mcYs7M02WQddfdyLswLUaufw=s64",
      "userId": "10220126325510116826"
     },
     "user_tz": -345
    },
    "id": "PDc9-Tnxg5UP"
   },
   "outputs": [],
   "source": [
    "from keras.models import Sequential\n",
    "from keras.layers import Dense , Activation\n",
    "from keras.layers import Dropout\n",
    "from keras.layers import Flatten\n",
    "from keras.constraints import maxnorm\n",
    "from keras.optimizers import SGD , RMSprop\n",
    "from keras.layers import Conv2D , BatchNormalization\n",
    "from keras.layers import MaxPooling2D\n",
    "from keras.utils import np_utils\n",
    "from keras import backend as K\n",
    "\n",
    "from sklearn.model_selection import GridSearchCV\n",
    "from keras.wrappers.scikit_learn import KerasClassifier"
   ]
  },
  {
   "cell_type": "code",
   "execution_count": 54,
   "metadata": {
    "executionInfo": {
     "elapsed": 3282,
     "status": "ok",
     "timestamp": 1601959410929,
     "user": {
      "displayName": "Diwas Pandey",
      "photoUrl": "https://lh3.googleusercontent.com/a-/AOh14GgwC5mUNsGb-K6YG3mcYs7M02WQddfdyLswLUaufw=s64",
      "userId": "10220126325510116826"
     },
     "user_tz": -345
    },
    "id": "YxIl5CWEg5UW"
   },
   "outputs": [],
   "source": [
    "#X_train=X_train.reshape(5216,3,150,150)\n",
    "#X_test=X_test.reshape(624,3,150,150)"
   ]
  },
  {
   "cell_type": "code",
   "execution_count": 55,
   "metadata": {
    "colab": {
     "base_uri": "https://localhost:8080/",
     "height": 555
    },
    "executionInfo": {
     "elapsed": 2220,
     "status": "ok",
     "timestamp": 1601959499703,
     "user": {
      "displayName": "Diwas Pandey",
      "photoUrl": "https://lh3.googleusercontent.com/a-/AOh14GgwC5mUNsGb-K6YG3mcYs7M02WQddfdyLswLUaufw=s64",
      "userId": "10220126325510116826"
     },
     "user_tz": -345
    },
    "id": "TMCbdAcAg5Uc",
    "outputId": "c302eec0-f717-43be-e406-9f101f757301"
   },
   "outputs": [
    {
     "name": "stdout",
     "output_type": "stream",
     "text": [
      "Model: \"sequential_4\"\n",
      "_________________________________________________________________\n",
      "Layer (type)                 Output Shape              Param #   \n",
      "=================================================================\n",
      "conv2d_19 (Conv2D)           (None, 150, 150, 16)      448       \n",
      "_________________________________________________________________\n",
      "conv2d_20 (Conv2D)           (None, 150, 150, 16)      2320      \n",
      "_________________________________________________________________\n",
      "conv2d_21 (Conv2D)           (None, 150, 150, 32)      4640      \n",
      "_________________________________________________________________\n",
      "conv2d_22 (Conv2D)           (None, 150, 150, 32)      9248      \n",
      "_________________________________________________________________\n",
      "conv2d_23 (Conv2D)           (None, 150, 150, 64)      18496     \n",
      "_________________________________________________________________\n",
      "conv2d_24 (Conv2D)           (None, 150, 150, 64)      36928     \n",
      "_________________________________________________________________\n",
      "max_pooling2d_4 (MaxPooling2 (None, 75, 75, 64)        0         \n",
      "_________________________________________________________________\n",
      "flatten_4 (Flatten)          (None, 360000)            0         \n",
      "_________________________________________________________________\n",
      "dense_7 (Dense)              (None, 64)                23040064  \n",
      "_________________________________________________________________\n",
      "dropout_4 (Dropout)          (None, 64)                0         \n",
      "_________________________________________________________________\n",
      "dense_8 (Dense)              (None, 3)                 195       \n",
      "=================================================================\n",
      "Total params: 23,112,339\n",
      "Trainable params: 23,112,339\n",
      "Non-trainable params: 0\n",
      "_________________________________________________________________\n",
      "None\n"
     ]
    }
   ],
   "source": [
    "model = Sequential()\n",
    "model.add(Conv2D(16, (3, 3), activation='relu', padding=\"same\", input_shape=(150,150,3)))\n",
    "model.add(Conv2D(16, (3, 3), padding=\"same\", activation='relu'))\n",
    "\n",
    "model.add(Conv2D(32, (3, 3), activation='relu', padding=\"same\"))\n",
    "model.add(Conv2D(32, (3, 3), padding=\"same\", activation='relu'))\n",
    "\n",
    "model.add(Conv2D(64, (3, 3), activation='relu', padding=\"same\"))\n",
    "model.add(Conv2D(64, (3, 3), padding=\"same\", activation='relu'))\n",
    "model.add(MaxPooling2D(pool_size=(2, 2)))\n",
    "\n",
    "\n",
    "model.add(Flatten())\n",
    "\n",
    "model.add(Dense(64, activation='relu'))\n",
    "model.add(Dropout(0.2))\n",
    "model.add(Dense(3 , activation='sigmoid'))\n",
    "\n",
    "model.compile(loss='binary_crossentropy',\n",
    "                  optimizer=RMSprop(lr=0.00005),\n",
    "                  metrics=['accuracy'])\n",
    "\n",
    "print(model.summary())\n"
   ]
  },
  {
   "cell_type": "code",
   "execution_count": 60,
   "metadata": {
    "executionInfo": {
     "elapsed": 978,
     "status": "ok",
     "timestamp": 1601959504448,
     "user": {
      "displayName": "Diwas Pandey",
      "photoUrl": "https://lh3.googleusercontent.com/a-/AOh14GgwC5mUNsGb-K6YG3mcYs7M02WQddfdyLswLUaufw=s64",
      "userId": "10220126325510116826"
     },
     "user_tz": -345
    },
    "id": "tKz8Vvjmg5Uf"
   },
   "outputs": [],
   "source": [
    "batch_size = 256\n",
    "epochs = 40"
   ]
  },
  {
   "cell_type": "code",
   "execution_count": 58,
   "metadata": {
    "colab": {
     "base_uri": "https://localhost:8080/",
     "height": 52
    },
    "id": "8djh4Z4Tg5Uj",
    "outputId": "ce9677f1-8783-4f7e-a335-de4adea352bd"
   },
   "outputs": [],
   "source": [
    "history = model.fit(X_train, y_train, validation_data = (X_test , y_test) ,callbacks=[lr_reduce,checkpoint] ,\n",
    "          epochs=epochs)\n"
   ]
  },
  {
   "cell_type": "code",
   "execution_count": 25,
   "metadata": {
    "id": "KgD1VHyNg5Um"
   },
   "outputs": [],
   "source": [
    "model.save('leukemia-model.h5')"
   ]
  },
  {
   "cell_type": "code",
   "execution_count": 61,
   "metadata": {
    "id": "3TwSV07Ag5Us"
   },
   "outputs": [],
   "source": [
    "from sklearn.metrics import confusion_matrix\n",
    "pred = model.predict(X_test)\n",
    "pred = np.argmax(pred,axis = 1) \n",
    "y_true = np.argmax(y_test,axis = 1)\n"
   ]
  },
  {
   "cell_type": "code",
   "execution_count": 63,
   "metadata": {
    "id": "tFogWgMNg5Uu"
   },
   "outputs": [],
   "source": [
    "from matplotlib import pyplot as plt\n",
    "CM = confusion_matrix(y_true, pred)\n",
    "from mlxtend.plotting import plot_confusion_matrix\n",
    "fig, ax = plot_confusion_matrix(conf_mat=CM ,  figsize=(5, 5))\n",
    "plt.show()\n"
   ]
  },
  {
   "attachments": {
    "image-23.png": {
     "image/png": "[encoded data removed]"
    }
   },
   "cell_type": "markdown",
   "metadata": {},
   "source": [
    "![image-23.png](attachment:image-23.png)"
   ]
  },
  {
   "cell_type": "code",
   "execution_count": 29,
   "metadata": {},
   "outputs": [
    {
     "data": {
      "text/plain": [
       "0.7504950495049505"
      ]
     },
     "execution_count": 29,
     "metadata": {},
     "output_type": "execute_result"
    }
   ],
   "source": [
    "#PRECISION = (TP/(TP+FP))\n",
    "379/(379+126)"
   ]
  },
  {
   "cell_type": "code",
   "execution_count": 30,
   "metadata": {},
   "outputs": [
    {
     "data": {
      "text/plain": [
       "0.9717948717948718"
      ]
     },
     "execution_count": 30,
     "metadata": {},
     "output_type": "execute_result"
    }
   ],
   "source": [
    "#RECALL = (TP/(TP+FN))\n",
    "379 / (379 + 11)"
   ]
  },
  {
   "cell_type": "code",
   "execution_count": 33,
   "metadata": {},
   "outputs": [
    {
     "data": {
      "text/plain": [
       "0.780448717948718"
      ]
     },
     "execution_count": 33,
     "metadata": {},
     "output_type": "execute_result"
    }
   ],
   "source": [
    "#ACCURACY = (TP+TN)/(TP+TN+FP+FN)\n",
    "(379+108)/(379+108+126+11)"
   ]
  },
  {
   "cell_type": "code",
   "execution_count": null,
   "metadata": {},
   "outputs": [],
   "source": []
  }
 ],
 "metadata": {
  "colab": {
   "collapsed_sections": [],
   "name": "model-code.ipynb",
   "provenance": []
  },
  "kernelspec": {
   "display_name": "Python 3",
   "language": "python",
   "name": "python3"
  },
  "language_info": {
   "codemirror_mode": {
    "name": "ipython",
    "version": 3
   },
   "file_extension": ".py",
   "mimetype": "text/x-python",
   "name": "python",
   "nbconvert_exporter": "python",
   "pygments_lexer": "ipython3",
   "version": "3.6.13"
  }
 },
 "nbformat": 4,
 "nbformat_minor": 1
}
