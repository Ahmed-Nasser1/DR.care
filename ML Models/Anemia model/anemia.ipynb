{
 "cells": [
  {
   "cell_type": "code",
   "execution_count": 1,
   "metadata": {},
   "outputs": [],
   "source": [
    "import pandas as pd \n",
    "import numpy as np\n",
    "import matplotlib.pyplot as plt "
   ]
  },
  {
   "cell_type": "code",
   "execution_count": null,
   "metadata": {},
   "outputs": [],
   "source": []
  },
  {
   "cell_type": "code",
   "execution_count": 2,
   "metadata": {},
   "outputs": [
    {
     "data": {
      "text/html": [
       "<div>\n",
       "<style scoped>\n",
       "    .dataframe tbody tr th:only-of-type {\n",
       "        vertical-align: middle;\n",
       "    }\n",
       "\n",
       "    .dataframe tbody tr th {\n",
       "        vertical-align: top;\n",
       "    }\n",
       "\n",
       "    .dataframe thead th {\n",
       "        text-align: right;\n",
       "    }\n",
       "</style>\n",
       "<table border=\"1\" class=\"dataframe\">\n",
       "  <thead>\n",
       "    <tr style=\"text-align: right;\">\n",
       "      <th></th>\n",
       "      <th>NO</th>\n",
       "      <th>LAB_TEST</th>\n",
       "      <th>RESULT</th>\n",
       "      <th>REFERENCE_INTERVAL</th>\n",
       "      <th>GENDER</th>\n",
       "      <th>IDENTIFICATION</th>\n",
       "    </tr>\n",
       "  </thead>\n",
       "  <tbody>\n",
       "    <tr>\n",
       "      <th>0</th>\n",
       "      <td>1</td>\n",
       "      <td>Hemoglobin</td>\n",
       "      <td>14.9</td>\n",
       "      <td>13.5 - 17.5</td>\n",
       "      <td>Male</td>\n",
       "      <td>Not Anemia</td>\n",
       "    </tr>\n",
       "    <tr>\n",
       "      <th>1</th>\n",
       "      <td>1</td>\n",
       "      <td>MCH</td>\n",
       "      <td>22.7</td>\n",
       "      <td>27.0 - 31.0</td>\n",
       "      <td>Male</td>\n",
       "      <td>Not Anemia</td>\n",
       "    </tr>\n",
       "    <tr>\n",
       "      <th>2</th>\n",
       "      <td>1</td>\n",
       "      <td>MCHC</td>\n",
       "      <td>29.1</td>\n",
       "      <td>32.0 - 36.0</td>\n",
       "      <td>Male</td>\n",
       "      <td>Not Anemia</td>\n",
       "    </tr>\n",
       "    <tr>\n",
       "      <th>3</th>\n",
       "      <td>1</td>\n",
       "      <td>MCV</td>\n",
       "      <td>83.7</td>\n",
       "      <td>82.0 - 92.0</td>\n",
       "      <td>Male</td>\n",
       "      <td>Not Anemia</td>\n",
       "    </tr>\n",
       "    <tr>\n",
       "      <th>4</th>\n",
       "      <td>2</td>\n",
       "      <td>Hemoglobin</td>\n",
       "      <td>15.9</td>\n",
       "      <td>12.0 - 16.0</td>\n",
       "      <td>Female</td>\n",
       "      <td>Not Anemia</td>\n",
       "    </tr>\n",
       "    <tr>\n",
       "      <th>5</th>\n",
       "      <td>2</td>\n",
       "      <td>MCH</td>\n",
       "      <td>25.4</td>\n",
       "      <td>27.0 - 31.0</td>\n",
       "      <td>Female</td>\n",
       "      <td>Not Anemia</td>\n",
       "    </tr>\n",
       "    <tr>\n",
       "      <th>6</th>\n",
       "      <td>2</td>\n",
       "      <td>MCHC</td>\n",
       "      <td>28.3</td>\n",
       "      <td>32.0 - 36.0</td>\n",
       "      <td>Female</td>\n",
       "      <td>Not Anemia</td>\n",
       "    </tr>\n",
       "    <tr>\n",
       "      <th>7</th>\n",
       "      <td>2</td>\n",
       "      <td>MCV</td>\n",
       "      <td>72.0</td>\n",
       "      <td>82.0 - 92.0</td>\n",
       "      <td>Female</td>\n",
       "      <td>Not Anemia</td>\n",
       "    </tr>\n",
       "    <tr>\n",
       "      <th>8</th>\n",
       "      <td>3</td>\n",
       "      <td>Hemoglobin</td>\n",
       "      <td>9.0</td>\n",
       "      <td>12.0 - 16.0</td>\n",
       "      <td>Female</td>\n",
       "      <td>Anemia</td>\n",
       "    </tr>\n",
       "  </tbody>\n",
       "</table>\n",
       "</div>"
      ],
      "text/plain": [
       "   NO    LAB_TEST  RESULT REFERENCE_INTERVAL  GENDER IDENTIFICATION\n",
       "0   1  Hemoglobin    14.9        13.5 - 17.5    Male     Not Anemia\n",
       "1   1         MCH    22.7        27.0 - 31.0    Male     Not Anemia\n",
       "2   1        MCHC    29.1        32.0 - 36.0    Male     Not Anemia\n",
       "3   1         MCV    83.7        82.0 - 92.0    Male     Not Anemia\n",
       "4   2  Hemoglobin    15.9        12.0 - 16.0  Female     Not Anemia\n",
       "5   2         MCH    25.4        27.0 - 31.0  Female     Not Anemia\n",
       "6   2        MCHC    28.3        32.0 - 36.0  Female     Not Anemia\n",
       "7   2         MCV    72.0        82.0 - 92.0  Female     Not Anemia\n",
       "8   3  Hemoglobin     9.0        12.0 - 16.0  Female         Anemia"
      ]
     },
     "execution_count": 2,
     "metadata": {},
     "output_type": "execute_result"
    }
   ],
   "source": [
    "df= pd.read_csv(\"Anemia.csv\")\n",
    "\n",
    "df.head(9)"
   ]
  },
  {
   "cell_type": "code",
   "execution_count": 3,
   "metadata": {},
   "outputs": [
    {
     "data": {
      "text/plain": [
       "(5684, 6)"
      ]
     },
     "execution_count": 3,
     "metadata": {},
     "output_type": "execute_result"
    }
   ],
   "source": [
    "df.shape"
   ]
  },
  {
   "cell_type": "code",
   "execution_count": 4,
   "metadata": {},
   "outputs": [
    {
     "name": "stdout",
     "output_type": "stream",
     "text": [
      "<class 'pandas.core.frame.DataFrame'>\n",
      "RangeIndex: 5684 entries, 0 to 5683\n",
      "Data columns (total 6 columns):\n",
      " #   Column              Non-Null Count  Dtype  \n",
      "---  ------              --------------  -----  \n",
      " 0   NO                  5684 non-null   int64  \n",
      " 1   LAB_TEST            5684 non-null   object \n",
      " 2   RESULT              5684 non-null   float64\n",
      " 3   REFERENCE_INTERVAL  5684 non-null   object \n",
      " 4   GENDER              5684 non-null   object \n",
      " 5   IDENTIFICATION      5684 non-null   object \n",
      "dtypes: float64(1), int64(1), object(4)\n",
      "memory usage: 266.6+ KB\n"
     ]
    }
   ],
   "source": [
    "df.info()"
   ]
  },
  {
   "cell_type": "code",
   "execution_count": 5,
   "metadata": {},
   "outputs": [
    {
     "data": {
      "text/plain": [
       "NO                    0\n",
       "LAB_TEST              0\n",
       "RESULT                0\n",
       "REFERENCE_INTERVAL    0\n",
       "GENDER                0\n",
       "IDENTIFICATION        0\n",
       "dtype: int64"
      ]
     },
     "execution_count": 5,
     "metadata": {},
     "output_type": "execute_result"
    }
   ],
   "source": [
    "df.isnull().sum()"
   ]
  },
  {
   "cell_type": "markdown",
   "metadata": {},
   "source": [
    "The data doesn't have null value \n"
   ]
  },
  {
   "cell_type": "code",
   "execution_count": 6,
   "metadata": {},
   "outputs": [
    {
     "data": {
      "text/html": [
       "<div>\n",
       "<style scoped>\n",
       "    .dataframe tbody tr th:only-of-type {\n",
       "        vertical-align: middle;\n",
       "    }\n",
       "\n",
       "    .dataframe tbody tr th {\n",
       "        vertical-align: top;\n",
       "    }\n",
       "\n",
       "    .dataframe thead th {\n",
       "        text-align: right;\n",
       "    }\n",
       "</style>\n",
       "<table border=\"1\" class=\"dataframe\">\n",
       "  <thead>\n",
       "    <tr style=\"text-align: right;\">\n",
       "      <th></th>\n",
       "      <th>NO</th>\n",
       "      <th>LAB_TEST</th>\n",
       "      <th>RESULT</th>\n",
       "      <th>GENDER</th>\n",
       "      <th>IDENTIFICATION</th>\n",
       "    </tr>\n",
       "  </thead>\n",
       "  <tbody>\n",
       "    <tr>\n",
       "      <th>0</th>\n",
       "      <td>1</td>\n",
       "      <td>Hemoglobin</td>\n",
       "      <td>14.9</td>\n",
       "      <td>Male</td>\n",
       "      <td>Not Anemia</td>\n",
       "    </tr>\n",
       "    <tr>\n",
       "      <th>1</th>\n",
       "      <td>1</td>\n",
       "      <td>MCH</td>\n",
       "      <td>22.7</td>\n",
       "      <td>Male</td>\n",
       "      <td>Not Anemia</td>\n",
       "    </tr>\n",
       "    <tr>\n",
       "      <th>2</th>\n",
       "      <td>1</td>\n",
       "      <td>MCHC</td>\n",
       "      <td>29.1</td>\n",
       "      <td>Male</td>\n",
       "      <td>Not Anemia</td>\n",
       "    </tr>\n",
       "    <tr>\n",
       "      <th>3</th>\n",
       "      <td>1</td>\n",
       "      <td>MCV</td>\n",
       "      <td>83.7</td>\n",
       "      <td>Male</td>\n",
       "      <td>Not Anemia</td>\n",
       "    </tr>\n",
       "    <tr>\n",
       "      <th>4</th>\n",
       "      <td>2</td>\n",
       "      <td>Hemoglobin</td>\n",
       "      <td>15.9</td>\n",
       "      <td>Female</td>\n",
       "      <td>Not Anemia</td>\n",
       "    </tr>\n",
       "  </tbody>\n",
       "</table>\n",
       "</div>"
      ],
      "text/plain": [
       "   NO    LAB_TEST  RESULT  GENDER IDENTIFICATION\n",
       "0   1  Hemoglobin    14.9    Male     Not Anemia\n",
       "1   1         MCH    22.7    Male     Not Anemia\n",
       "2   1        MCHC    29.1    Male     Not Anemia\n",
       "3   1         MCV    83.7    Male     Not Anemia\n",
       "4   2  Hemoglobin    15.9  Female     Not Anemia"
      ]
     },
     "execution_count": 6,
     "metadata": {},
     "output_type": "execute_result"
    }
   ],
   "source": [
    "#Drop \"REFERENCE_INTERVAL\" column because it isn't important \n",
    "\n",
    "df=df.drop('REFERENCE_INTERVAL',axis=1)\n",
    " \n",
    "df.head()"
   ]
  },
  {
   "cell_type": "code",
   "execution_count": 7,
   "metadata": {},
   "outputs": [
    {
     "data": {
      "text/plain": [
       "1421"
      ]
     },
     "execution_count": 7,
     "metadata": {},
     "output_type": "execute_result"
    }
   ],
   "source": [
    "df[\"NO\"].max()"
   ]
  },
  {
   "cell_type": "code",
   "execution_count": null,
   "metadata": {},
   "outputs": [],
   "source": []
  },
  {
   "cell_type": "code",
   "execution_count": 8,
   "metadata": {},
   "outputs": [],
   "source": [
    "df2=pd.DataFrame(columns=[\"Hemoglobin\",\"MCH\",'MCHC','MCV','GENDER','IDENTIFICATION'])\n",
    "\n",
    "df2.head()\n",
    "dic={}\n",
    "for i in range(1,1422):\n",
    "    for k in range(0,5684):\n",
    "        \n",
    "        if df.loc[k,\"NO\"]==i:\n",
    "\n",
    "            if df.iloc[k][\"LAB_TEST\"]==\"Hemoglobin\":\n",
    "                dic[\"Hemoglobin\"]=df.iloc[k][\"RESULT\"]\n",
    "            elif df.iloc[k][\"LAB_TEST\"]==\"MCH\":\n",
    "                dic[\"MCH\"]=df.iloc[k][\"RESULT\"]\n",
    "            elif df.iloc[k][\"LAB_TEST\"]==\"MCHC\":\n",
    "                dic[\"MCHC\"]=df.iloc[k][\"RESULT\"]\n",
    "            elif df.iloc[k][\"LAB_TEST\"]==\"MCV\":\n",
    "                dic[\"MCV\"]=df.iloc[k][\"RESULT\"]\n",
    "                dic[\"GENDER\"]=df.loc[k,'GENDER']\n",
    "                dic['IDENTIFICATION']=df.loc[k,'IDENTIFICATION']\n",
    "    df2=df2.append(dic,ignore_index=True)"
   ]
  },
  {
   "cell_type": "code",
   "execution_count": 9,
   "metadata": {},
   "outputs": [
    {
     "data": {
      "text/html": [
       "<div>\n",
       "<style scoped>\n",
       "    .dataframe tbody tr th:only-of-type {\n",
       "        vertical-align: middle;\n",
       "    }\n",
       "\n",
       "    .dataframe tbody tr th {\n",
       "        vertical-align: top;\n",
       "    }\n",
       "\n",
       "    .dataframe thead th {\n",
       "        text-align: right;\n",
       "    }\n",
       "</style>\n",
       "<table border=\"1\" class=\"dataframe\">\n",
       "  <thead>\n",
       "    <tr style=\"text-align: right;\">\n",
       "      <th></th>\n",
       "      <th>Hemoglobin</th>\n",
       "      <th>MCH</th>\n",
       "      <th>MCHC</th>\n",
       "      <th>MCV</th>\n",
       "      <th>GENDER</th>\n",
       "      <th>IDENTIFICATION</th>\n",
       "    </tr>\n",
       "  </thead>\n",
       "  <tbody>\n",
       "    <tr>\n",
       "      <th>0</th>\n",
       "      <td>14.9</td>\n",
       "      <td>22.7</td>\n",
       "      <td>29.1</td>\n",
       "      <td>83.7</td>\n",
       "      <td>Male</td>\n",
       "      <td>Not Anemia</td>\n",
       "    </tr>\n",
       "    <tr>\n",
       "      <th>1</th>\n",
       "      <td>15.9</td>\n",
       "      <td>25.4</td>\n",
       "      <td>28.3</td>\n",
       "      <td>72.0</td>\n",
       "      <td>Female</td>\n",
       "      <td>Not Anemia</td>\n",
       "    </tr>\n",
       "    <tr>\n",
       "      <th>2</th>\n",
       "      <td>9.0</td>\n",
       "      <td>21.5</td>\n",
       "      <td>29.6</td>\n",
       "      <td>71.2</td>\n",
       "      <td>Female</td>\n",
       "      <td>Anemia</td>\n",
       "    </tr>\n",
       "    <tr>\n",
       "      <th>3</th>\n",
       "      <td>14.9</td>\n",
       "      <td>16.0</td>\n",
       "      <td>31.4</td>\n",
       "      <td>87.5</td>\n",
       "      <td>Female</td>\n",
       "      <td>Not Anemia</td>\n",
       "    </tr>\n",
       "    <tr>\n",
       "      <th>4</th>\n",
       "      <td>14.7</td>\n",
       "      <td>22.0</td>\n",
       "      <td>28.2</td>\n",
       "      <td>99.5</td>\n",
       "      <td>Male</td>\n",
       "      <td>Not Anemia</td>\n",
       "    </tr>\n",
       "  </tbody>\n",
       "</table>\n",
       "</div>"
      ],
      "text/plain": [
       "   Hemoglobin   MCH  MCHC   MCV  GENDER IDENTIFICATION\n",
       "0        14.9  22.7  29.1  83.7    Male     Not Anemia\n",
       "1        15.9  25.4  28.3  72.0  Female     Not Anemia\n",
       "2         9.0  21.5  29.6  71.2  Female         Anemia\n",
       "3        14.9  16.0  31.4  87.5  Female     Not Anemia\n",
       "4        14.7  22.0  28.2  99.5    Male     Not Anemia"
      ]
     },
     "execution_count": 9,
     "metadata": {},
     "output_type": "execute_result"
    }
   ],
   "source": [
    "df2.head()"
   ]
  },
  {
   "cell_type": "markdown",
   "metadata": {},
   "source": [
    "prepering the data for modeling "
   ]
  },
  {
   "cell_type": "code",
   "execution_count": 10,
   "metadata": {},
   "outputs": [
    {
     "data": {
      "text/html": [
       "<div>\n",
       "<style scoped>\n",
       "    .dataframe tbody tr th:only-of-type {\n",
       "        vertical-align: middle;\n",
       "    }\n",
       "\n",
       "    .dataframe tbody tr th {\n",
       "        vertical-align: top;\n",
       "    }\n",
       "\n",
       "    .dataframe thead th {\n",
       "        text-align: right;\n",
       "    }\n",
       "</style>\n",
       "<table border=\"1\" class=\"dataframe\">\n",
       "  <thead>\n",
       "    <tr style=\"text-align: right;\">\n",
       "      <th></th>\n",
       "      <th>Hemoglobin</th>\n",
       "      <th>MCH</th>\n",
       "      <th>MCHC</th>\n",
       "      <th>MCV</th>\n",
       "      <th>GENDER</th>\n",
       "      <th>IDENTIFICATION</th>\n",
       "    </tr>\n",
       "  </thead>\n",
       "  <tbody>\n",
       "    <tr>\n",
       "      <th>0</th>\n",
       "      <td>14.9</td>\n",
       "      <td>22.7</td>\n",
       "      <td>29.1</td>\n",
       "      <td>83.7</td>\n",
       "      <td>Male</td>\n",
       "      <td>0</td>\n",
       "    </tr>\n",
       "    <tr>\n",
       "      <th>1</th>\n",
       "      <td>15.9</td>\n",
       "      <td>25.4</td>\n",
       "      <td>28.3</td>\n",
       "      <td>72.0</td>\n",
       "      <td>Female</td>\n",
       "      <td>0</td>\n",
       "    </tr>\n",
       "    <tr>\n",
       "      <th>2</th>\n",
       "      <td>9.0</td>\n",
       "      <td>21.5</td>\n",
       "      <td>29.6</td>\n",
       "      <td>71.2</td>\n",
       "      <td>Female</td>\n",
       "      <td>1</td>\n",
       "    </tr>\n",
       "    <tr>\n",
       "      <th>3</th>\n",
       "      <td>14.9</td>\n",
       "      <td>16.0</td>\n",
       "      <td>31.4</td>\n",
       "      <td>87.5</td>\n",
       "      <td>Female</td>\n",
       "      <td>0</td>\n",
       "    </tr>\n",
       "    <tr>\n",
       "      <th>4</th>\n",
       "      <td>14.7</td>\n",
       "      <td>22.0</td>\n",
       "      <td>28.2</td>\n",
       "      <td>99.5</td>\n",
       "      <td>Male</td>\n",
       "      <td>0</td>\n",
       "    </tr>\n",
       "  </tbody>\n",
       "</table>\n",
       "</div>"
      ],
      "text/plain": [
       "   Hemoglobin   MCH  MCHC   MCV  GENDER  IDENTIFICATION\n",
       "0        14.9  22.7  29.1  83.7    Male               0\n",
       "1        15.9  25.4  28.3  72.0  Female               0\n",
       "2         9.0  21.5  29.6  71.2  Female               1\n",
       "3        14.9  16.0  31.4  87.5  Female               0\n",
       "4        14.7  22.0  28.2  99.5    Male               0"
      ]
     },
     "execution_count": 10,
     "metadata": {},
     "output_type": "execute_result"
    }
   ],
   "source": [
    "#REPLACE THE VALUE OF \"Not Anemia\" whit 0 and \"Anemia\" whit 1\n",
    "\n",
    "df2['IDENTIFICATION']=df2['IDENTIFICATION'].replace(['Not Anemia','Anemia'],[0,1])\n",
    "\n",
    "df2.head()"
   ]
  },
  {
   "cell_type": "code",
   "execution_count": 11,
   "metadata": {},
   "outputs": [
    {
     "data": {
      "text/html": [
       "<div>\n",
       "<style scoped>\n",
       "    .dataframe tbody tr th:only-of-type {\n",
       "        vertical-align: middle;\n",
       "    }\n",
       "\n",
       "    .dataframe tbody tr th {\n",
       "        vertical-align: top;\n",
       "    }\n",
       "\n",
       "    .dataframe thead th {\n",
       "        text-align: right;\n",
       "    }\n",
       "</style>\n",
       "<table border=\"1\" class=\"dataframe\">\n",
       "  <thead>\n",
       "    <tr style=\"text-align: right;\">\n",
       "      <th></th>\n",
       "      <th>Hemoglobin</th>\n",
       "      <th>MCH</th>\n",
       "      <th>MCHC</th>\n",
       "      <th>MCV</th>\n",
       "      <th>GENDER</th>\n",
       "      <th>IDENTIFICATION</th>\n",
       "    </tr>\n",
       "  </thead>\n",
       "  <tbody>\n",
       "    <tr>\n",
       "      <th>0</th>\n",
       "      <td>14.9</td>\n",
       "      <td>22.7</td>\n",
       "      <td>29.1</td>\n",
       "      <td>83.7</td>\n",
       "      <td>0</td>\n",
       "      <td>0</td>\n",
       "    </tr>\n",
       "    <tr>\n",
       "      <th>1</th>\n",
       "      <td>15.9</td>\n",
       "      <td>25.4</td>\n",
       "      <td>28.3</td>\n",
       "      <td>72.0</td>\n",
       "      <td>1</td>\n",
       "      <td>0</td>\n",
       "    </tr>\n",
       "    <tr>\n",
       "      <th>2</th>\n",
       "      <td>9.0</td>\n",
       "      <td>21.5</td>\n",
       "      <td>29.6</td>\n",
       "      <td>71.2</td>\n",
       "      <td>1</td>\n",
       "      <td>1</td>\n",
       "    </tr>\n",
       "    <tr>\n",
       "      <th>3</th>\n",
       "      <td>14.9</td>\n",
       "      <td>16.0</td>\n",
       "      <td>31.4</td>\n",
       "      <td>87.5</td>\n",
       "      <td>1</td>\n",
       "      <td>0</td>\n",
       "    </tr>\n",
       "    <tr>\n",
       "      <th>4</th>\n",
       "      <td>14.7</td>\n",
       "      <td>22.0</td>\n",
       "      <td>28.2</td>\n",
       "      <td>99.5</td>\n",
       "      <td>0</td>\n",
       "      <td>0</td>\n",
       "    </tr>\n",
       "  </tbody>\n",
       "</table>\n",
       "</div>"
      ],
      "text/plain": [
       "   Hemoglobin   MCH  MCHC   MCV  GENDER  IDENTIFICATION\n",
       "0        14.9  22.7  29.1  83.7       0               0\n",
       "1        15.9  25.4  28.3  72.0       1               0\n",
       "2         9.0  21.5  29.6  71.2       1               1\n",
       "3        14.9  16.0  31.4  87.5       1               0\n",
       "4        14.7  22.0  28.2  99.5       0               0"
      ]
     },
     "execution_count": 11,
     "metadata": {},
     "output_type": "execute_result"
    }
   ],
   "source": [
    "#REPLACE THE VALUE OF \"Male\" whit 0 and \"female\" whit 1\n",
    "df2['GENDER']=df2['GENDER'].replace(['Male','Female'],[0,1])\n",
    "df2.head()"
   ]
  },
  {
   "cell_type": "code",
   "execution_count": 12,
   "metadata": {},
   "outputs": [],
   "source": [
    "X=df2.drop(['IDENTIFICATION'],axis=1)\n",
    "Y=df2[\"IDENTIFICATION\"]"
   ]
  },
  {
   "cell_type": "code",
   "execution_count": 13,
   "metadata": {},
   "outputs": [
    {
     "data": {
      "text/plain": [
       "(1421, 5)"
      ]
     },
     "execution_count": 13,
     "metadata": {},
     "output_type": "execute_result"
    }
   ],
   "source": [
    "X.shape"
   ]
  },
  {
   "cell_type": "code",
   "execution_count": 14,
   "metadata": {},
   "outputs": [
    {
     "data": {
      "text/plain": [
       "(1421,)"
      ]
     },
     "execution_count": 14,
     "metadata": {},
     "output_type": "execute_result"
    }
   ],
   "source": [
    "Y.shape"
   ]
  },
  {
   "cell_type": "code",
   "execution_count": 17,
   "metadata": {},
   "outputs": [],
   "source": [
    "\n",
    "from sklearn.model_selection import train_test_split\n",
    "X_train,X_test,y_train,y_test=train_test_split(X,Y,test_size=.3)\n"
   ]
  },
  {
   "cell_type": "markdown",
   "metadata": {},
   "source": [
    "traing the model with data "
   ]
  },
  {
   "cell_type": "code",
   "execution_count": 18,
   "metadata": {},
   "outputs": [
    {
     "data": {
      "text/plain": [
       "DecisionTreeClassifier(ccp_alpha=0.0, class_weight=None, criterion='entropy',\n",
       "                       max_depth=4, max_features=None, max_leaf_nodes=None,\n",
       "                       min_impurity_decrease=0.0, min_impurity_split=None,\n",
       "                       min_samples_leaf=1, min_samples_split=2,\n",
       "                       min_weight_fraction_leaf=0.0, presort='deprecated',\n",
       "                       random_state=None, splitter='best')"
      ]
     },
     "execution_count": 18,
     "metadata": {},
     "output_type": "execute_result"
    }
   ],
   "source": [
    "from sklearn.tree import DecisionTreeClassifier\n",
    "classifier=DecisionTreeClassifier(criterion='entropy', max_depth=4)\n",
    "classifier.fit(X_train,y_train)"
   ]
  },
  {
   "cell_type": "code",
   "execution_count": 19,
   "metadata": {},
   "outputs": [
    {
     "name": "stdout",
     "output_type": "stream",
     "text": [
      "[0 1 0 0 0 1 0 0 1 1 0 1 0 0 1 0 1 0 0 0 1 0 0 0 1 0 1 1 1 0 0 1 1 1 0 1 1\n",
      " 0 1 1 0 0 0 0 0 0 0 0 0 0 1 0 1 0 1 1 0 1 0 1 0 1 0 1 0 0 1 0 0 0 0 1 0 1\n",
      " 0 0 0 0 1 1 0 0 1 1 0 0 1 1 1 0 1 1 1 0 1 0 0 0 1 1 1 1 1 1 0 1 1 1 0 0 0\n",
      " 0 0 0 1 1 0 1 0 0 0 0 0 0 0 0 1 0 0 0 1 0 0 0 1 1 0 0 0 0 0 0 1 1 1 1 0 1\n",
      " 1 0 1 1 0 0 0 0 1 0 0 0 0 1 1 1 1 0 0 1 0 0 1 0 1 1 1 0 0 1 0 1 0 0 1 1 0\n",
      " 0 1 1 0 0 0 0 0 1 0 0 0 0 0 0 0 1 1 0 1 1 0 1 0 1 0 1 0 0 1 0 0 0 0 0 1 1\n",
      " 0 0 1 1 1 1 1 1 0 1 0 0 0 0 1 1 0 1 0 0 1 0 1 0 0 0 0 0 1 1 1 1 0 1 1 1 0\n",
      " 0 0 0 0 0 0 0 0 1 0 0 1 0 0 0 0 0 1 1 1 0 0 1 0 0 1 1 1 0 1 0 0 0 1 1 1 1\n",
      " 1 0 1 0 1 0 1 0 0 1 1 0 1 1 0 0 0 0 0 0 0 0 0 0 1 0 0 0 1 0 1 0 0 1 0 0 0\n",
      " 0 0 0 0 0 1 1 1 1 0 0 0 0 1 1 1 1 1 1 0 1 1 0 1 0 0 1 0 0 0 1 1 1 0 0 0 1\n",
      " 0 0 1 0 1 1 1 0 1 1 0 0 0 1 1 0 0 0 0 0 0 0 1 1 1 1 1 1 0 1 1 1 0 0 1 1 0\n",
      " 1 0 1 1 0 0 0 1 0 0 1 0 0 0 1 0 1 0 0 1]\n"
     ]
    }
   ],
   "source": [
    "Y_pred=classifier.predict(X_test)\n",
    "print(Y_pred)\n",
    "    "
   ]
  },
  {
   "cell_type": "code",
   "execution_count": 20,
   "metadata": {},
   "outputs": [
    {
     "name": "stdout",
     "output_type": "stream",
     "text": [
      "100.0%\n"
     ]
    }
   ],
   "source": [
    "from sklearn.metrics import accuracy_score\n",
    "\n",
    "score=accuracy_score(y_test,Y_pred)\n",
    "print(\"{}%\".format(score*100))"
   ]
  },
  {
   "cell_type": "markdown",
   "metadata": {},
   "source": [
    "save the model "
   ]
  },
  {
   "cell_type": "code",
   "execution_count": 21,
   "metadata": {},
   "outputs": [],
   "source": [
    "import pickle \n",
    "filename =\"finalized_model.sav\"\n",
    "pickle.dump(classifier,open(filename,'wb'))"
   ]
  },
  {
   "cell_type": "code",
   "execution_count": 22,
   "metadata": {},
   "outputs": [],
   "source": [
    "def predictByModel(test,filename):\n",
    "    loaded_model=pickle.load(open(filename,'rb'))\n",
    "    pred=loaded_model.predict(test)\n",
    "    return pred\n"
   ]
  },
  {
   "cell_type": "code",
   "execution_count": null,
   "metadata": {},
   "outputs": [],
   "source": []
  }
 ],
 "metadata": {
  "interpreter": {
   "hash": "6bf67eb5649b087681366e5c87d7551c4ee35afbc53ff41b1cc832c704232f8c"
  },
  "kernelspec": {
   "display_name": "Python 3.7.6 64-bit ('base': conda)",
   "language": "python",
   "name": "python3"
  },
  "language_info": {
   "codemirror_mode": {
    "name": "ipython",
    "version": 3
   },
   "file_extension": ".py",
   "mimetype": "text/x-python",
   "name": "python",
   "nbconvert_exporter": "python",
   "pygments_lexer": "ipython3",
   "version": "3.7.6"
  },
  "orig_nbformat": 4
 },
 "nbformat": 4,
 "nbformat_minor": 2
}
